{
  "nbformat": 4,
  "nbformat_minor": 0,
  "metadata": {
    "colab": {
      "name": "KatMi2.ipynb",
      "provenance": []
    },
    "kernelspec": {
      "name": "python3",
      "display_name": "Python 3"
    }
  },
  "cells": [
    {
      "cell_type": "code",
      "metadata": {
        "colab": {
          "base_uri": "https://localhost:8080/"
        },
        "id": "wTgm5LNHzWZU",
        "outputId": "ad5c8063-be06-4343-e5d2-296b390d4059"
      },
      "source": [
        "from itertools import combinations\r\n",
        "\r\n",
        "import numpy as np\r\n",
        "import pandas as pd\r\n",
        "import scipy as sp\r\n",
        "import sklearn as sk\r\n",
        "import xgboost as xgb\r\n",
        "from imblearn.over_sampling import SMOTE\r\n",
        "from statsmodels.stats.power import NormalIndPower\r\n",
        "from statsmodels.stats.proportion import proportion_effectsize\r\n",
        "from sklearn.model_selection import train_test_split\r\n",
        "from sklearn import naive_bayes as nb\r\n",
        "from sklearn.tree import DecisionTreeClassifier as DTC\r\n",
        "from sklearn import svm\r\n",
        "from sklearn.linear_model import LogisticRegression as LR\r\n",
        "from sklearn.neighbors import KNeighborsClassifier as KNN\r\n",
        "from sklearn.ensemble import RandomForestClassifier as RFC\r\n",
        "\r\n",
        "import matplotlib.pyplot as plt\r\n",
        "import seaborn as sb"
      ],
      "execution_count": 1,
      "outputs": [
        {
          "output_type": "stream",
          "text": [
            "/usr/local/lib/python3.6/dist-packages/sklearn/externals/six.py:31: FutureWarning: The module is deprecated in version 0.21 and will be removed in version 0.23 since we've dropped support for Python 2.7. Please rely on the official version of six (https://pypi.org/project/six/).\n",
            "  \"(https://pypi.org/project/six/).\", FutureWarning)\n",
            "/usr/local/lib/python3.6/dist-packages/sklearn/utils/deprecation.py:144: FutureWarning: The sklearn.neighbors.base module is  deprecated in version 0.22 and will be removed in version 0.24. The corresponding classes / functions should instead be imported from sklearn.neighbors. Anything that cannot be imported from sklearn.neighbors is now part of the private API.\n",
            "  warnings.warn(message, FutureWarning)\n",
            "/usr/local/lib/python3.6/dist-packages/statsmodels/tools/_testing.py:19: FutureWarning: pandas.util.testing is deprecated. Use the functions in the public API at pandas.testing instead.\n",
            "  import pandas.util.testing as tm\n"
          ],
          "name": "stderr"
        }
      ]
    },
    {
      "cell_type": "code",
      "metadata": {
        "id": "0oUGMZUdza0X"
      },
      "source": [
        "def score(df, promo_pred_col = 'treatment'):\r\n",
        "    n_treat       = df.loc[df[promo_pred_col] != 0,:].shape[0]\r\n",
        "    n_control     = df.loc[df[promo_pred_col] == 0,:].shape[0]\r\n",
        "    n_treat_purch = df.loc[df[promo_pred_col] == 1, 'target'].sum()\r\n",
        "    n_ctrl_purch  = df.loc[df[promo_pred_col] == 0, 'target'].sum()\r\n",
        "    print(n_treat, n_control)\r\n",
        "    irr = n_treat_purch / n_treat - n_ctrl_purch / n_control\r\n",
        "    nir = 10 * n_treat_purch - 0.15 * n_treat - 10 * n_ctrl_purch\r\n",
        "    return (irr, nir)"
      ],
      "execution_count": 2,
      "outputs": []
    },
    {
      "cell_type": "code",
      "metadata": {
        "id": "NqUJBz4Bze1r"
      },
      "source": [
        "def test_results(promotion_strategy, test_data):\r\n",
        "    df = test_data[['recency', 'history', 'used_discount', 'used_bogo', 'is_referral', 'zip_code_Rural', 'zip_code_Surburban', 'zip_code_Urban', 'channel_Multichannel', 'channel_Phone', 'channel_Web']]\r\n",
        "    promos = promotion_strategy(df)\r\n",
        "    score_df = test_data.iloc[np.where(promos == 'Yes')]\r\n",
        "    irr, nir = score(score_df)\r\n",
        "    print('Your irr with this strategy is {:0.4f}.'.format(irr))\r\n",
        "    print()\r\n",
        "    print('Your nir with this strategy is {:0.2f}.'.format(nir))\r\n",
        "    return irr, nir"
      ],
      "execution_count": 3,
      "outputs": []
    },
    {
      "cell_type": "code",
      "metadata": {
        "id": "DwnRJ3WFzlWw"
      },
      "source": [
        "# added this function to test our irr and nlr on the validation set\r\n",
        "def valid_results(promotion_strategy, valid_data):\r\n",
        "    df = valid_data[['recency', 'history', 'used_discount', 'used_bogo', 'is_referral', 'zip_code_Rural', 'zip_code_Surburban', 'zip_code_Urban', 'channel_Multichannel', 'channel_Phone', 'channel_Web']]\r\n",
        "    promos = promotion_strategy(df)\r\n",
        "    score_df = valid_data.iloc[np.where(promos == 'Yes')]    \r\n",
        "    irr, nir = score(score_df)\r\n",
        "    print('Your irr with this strategy is {:0.4f}.'.format(irr))\r\n",
        "    print()\r\n",
        "    print('Your nir with this strategy is {:0.2f}.'.format(nir))\r\n",
        "    return irr, nir"
      ],
      "execution_count": 4,
      "outputs": []
    },
    {
      "cell_type": "code",
      "metadata": {
        "colab": {
          "base_uri": "https://localhost:8080/"
        },
        "id": "a95UH7g4zr61",
        "outputId": "01856a03-4c28-43af-cd19-f763a5aa09e7"
      },
      "source": [
        "df = pd.read_csv('data.csv')\r\n",
        "# Rename target column\r\n",
        "df = df.rename(columns={'conversion': 'target'})\r\n",
        "# Rename & Label encode treatment column\r\n",
        "df = df.rename(columns={'offer': 'treatment'})\r\n",
        "\r\n",
        "df.treatment = df.treatment.map({'No Offer': 0, 'Buy One Get One': 1, 'Discount': 1})\r\n",
        "# One-Hot Encoding:\r\n",
        "df = pd.get_dummies(df)\r\n",
        "\r\n",
        "Train, test, Train_target, test_target = train_test_split(df.drop(['target'], axis=1), df.target, test_size=0.1, stratify=df.target, random_state=42)\r\n",
        "df_train = pd.concat([Train, Train_target], axis=1)\r\n",
        "df_test = pd.concat([test, test_target], axis=1)\r\n",
        "\r\n",
        "print(len(df_train))\r\n",
        "print(len(df_test))\r\n",
        "features = ['recency', 'history', 'used_discount', 'used_bogo', 'is_referral', 'zip_code_Rural', 'zip_code_Surburban', 'zip_code_Urban', 'channel_Multichannel', 'channel_Phone', 'channel_Web']"
      ],
      "execution_count": 5,
      "outputs": [
        {
          "output_type": "stream",
          "text": [
            "57600\n",
            "6400\n"
          ],
          "name": "stdout"
        }
      ]
    },
    {
      "cell_type": "code",
      "metadata": {
        "colab": {
          "base_uri": "https://localhost:8080/",
          "height": 607
        },
        "id": "xncHiFOfhZLS",
        "outputId": "4b3da299-4238-44cc-ccf7-164fd010a628"
      },
      "source": [
        "def histogram1(train_data):\r\n",
        "  train_data[(train_data['treatment']!=0) & (train_data['target']==1)][features].hist(figsize=(10,10));\r\n",
        "histogram1(df_train)"
      ],
      "execution_count": 6,
      "outputs": [
        {
          "output_type": "display_data",
          "data": {
            "image/png": "[encoded data removed]",
            "text/plain": [
              "<Figure size 720x720 with 12 Axes>"
            ]
          },
          "metadata": {
            "tags": [],
            "needs_background": "light"
          }
        }
      ]
    },
    {
      "cell_type": "code",
      "metadata": {
        "colab": {
          "base_uri": "https://localhost:8080/",
          "height": 607
        },
        "id": "t63nyI3VhuP6",
        "outputId": "b6f69083-661c-4822-b4df-962f04cae8c7"
      },
      "source": [
        "def histogram2(train_data):\r\n",
        "  train_data[(train_data['treatment']!=0) & (train_data['target']==0)][features].hist(figsize=(10,10));\r\n",
        "histogram2(df_train)"
      ],
      "execution_count": 7,
      "outputs": [
        {
          "output_type": "display_data",
          "data": {
            "image/png": "[encoded data removed]",
            "text/plain": [
              "<Figure size 720x720 with 12 Axes>"
            ]
          },
          "metadata": {
            "tags": [],
            "needs_background": "light"
          }
        }
      ]
    },
    {
      "cell_type": "code",
      "metadata": {
        "colab": {
          "base_uri": "https://localhost:8080/",
          "height": 607
        },
        "id": "Q41G6aLah_2D",
        "outputId": "f3723a25-5faf-48b0-d588-56d91c15b8e5"
      },
      "source": [
        "def histogram3(train_data):\r\n",
        "  train_data[(train_data['treatment']==0) & (train_data['target']==1)][features].hist(figsize=(10,10));\r\n",
        "histogram3(df_train)"
      ],
      "execution_count": 8,
      "outputs": [
        {
          "output_type": "display_data",
          "data": {
            "image/png": "[encoded data removed]",
            "text/plain": [
              "<Figure size 720x720 with 12 Axes>"
            ]
          },
          "metadata": {
            "tags": [],
            "needs_background": "light"
          }
        }
      ]
    },
    {
      "cell_type": "code",
      "metadata": {
        "colab": {
          "base_uri": "https://localhost:8080/",
          "height": 607
        },
        "id": "Se1urzbuiFu6",
        "outputId": "2302df01-f5c7-4010-e260-30e74157ad9d"
      },
      "source": [
        "def histogram4(train_data):\r\n",
        "  train_data[(train_data['treatment']==0) & (train_data['target']==0)][features].hist(figsize=(10,10));\r\n",
        "histogram4(df_train)"
      ],
      "execution_count": 9,
      "outputs": [
        {
          "output_type": "display_data",
          "data": {
            "image/png": "[encoded data removed]",
            "text/plain": [
              "<Figure size 720x720 with 12 Axes>"
            ]
          },
          "metadata": {
            "tags": [],
            "needs_background": "light"
          }
        }
      ]
    },
    {
      "cell_type": "code",
      "metadata": {
        "colab": {
          "base_uri": "https://localhost:8080/"
        },
        "id": "1prraXBy08oX",
        "outputId": "b475d287-e93f-40b7-a4cf-ee0fad9c7c25"
      },
      "source": [
        "df_train.treatment.value_counts()"
      ],
      "execution_count": 10,
      "outputs": [
        {
          "output_type": "execute_result",
          "data": {
            "text/plain": [
              "1    38388\n",
              "0    19212\n",
              "Name: treatment, dtype: int64"
            ]
          },
          "metadata": {
            "tags": []
          },
          "execution_count": 10
        }
      ]
    },
    {
      "cell_type": "code",
      "metadata": {
        "colab": {
          "base_uri": "https://localhost:8080/"
        },
        "id": "VvgSq3gt1DTT",
        "outputId": "0ec10548-7fef-4949-b07c-31b64e9b1fb3"
      },
      "source": [
        "df_train.target.value_counts()"
      ],
      "execution_count": 11,
      "outputs": [
        {
          "output_type": "execute_result",
          "data": {
            "text/plain": [
              "0    49145\n",
              "1     8455\n",
              "Name: target, dtype: int64"
            ]
          },
          "metadata": {
            "tags": []
          },
          "execution_count": 11
        }
      ]
    },
    {
      "cell_type": "code",
      "metadata": {
        "colab": {
          "base_uri": "https://localhost:8080/"
        },
        "id": "LeheMvxN1JE6",
        "outputId": "f4688279-c149-48da-9078-508a3479e9ba"
      },
      "source": [
        "df_test.treatment.value_counts()"
      ],
      "execution_count": 12,
      "outputs": [
        {
          "output_type": "execute_result",
          "data": {
            "text/plain": [
              "1    4306\n",
              "0    2094\n",
              "Name: treatment, dtype: int64"
            ]
          },
          "metadata": {
            "tags": []
          },
          "execution_count": 12
        }
      ]
    },
    {
      "cell_type": "code",
      "metadata": {
        "colab": {
          "base_uri": "https://localhost:8080/"
        },
        "id": "w-GO5r4U1Mo5",
        "outputId": "b6adc749-8483-47e4-f40b-3935fa2bd455"
      },
      "source": [
        "df_test.target.value_counts()"
      ],
      "execution_count": 13,
      "outputs": [
        {
          "output_type": "execute_result",
          "data": {
            "text/plain": [
              "0    5461\n",
              "1     939\n",
              "Name: target, dtype: int64"
            ]
          },
          "metadata": {
            "tags": []
          },
          "execution_count": 13
        }
      ]
    },
    {
      "cell_type": "code",
      "metadata": {
        "id": "sVdlg9xG0C3n"
      },
      "source": [
        "def promotion_strategy(df):\r\n",
        "    test = df\r\n",
        "    \r\n",
        "    promotion = []\r\n",
        "    \r\n",
        "    num_test_points = test.shape[0]\r\n",
        "    \r\n",
        "    for i in range(num_test_points):\r\n",
        "        promotion.append('Yes')\r\n",
        "        \r\n",
        "    promotion = np.array(promotion)\r\n",
        "    \r\n",
        "    return promotion"
      ],
      "execution_count": 14,
      "outputs": []
    },
    {
      "cell_type": "code",
      "metadata": {
        "colab": {
          "base_uri": "https://localhost:8080/"
        },
        "id": "HG-2iAyo0uA9",
        "outputId": "fc715f1a-d87a-4616-a468-d01357fb54c1"
      },
      "source": [
        "test_results(promotion_strategy, df_train)"
      ],
      "execution_count": 15,
      "outputs": [
        {
          "output_type": "stream",
          "text": [
            "38388 19212\n",
            "Your irr with this strategy is 0.0616.\n",
            "\n",
            "Your nir with this strategy is 38151.80.\n"
          ],
          "name": "stdout"
        },
        {
          "output_type": "execute_result",
          "data": {
            "text/plain": [
              "(0.06155068303212856, 38151.8)"
            ]
          },
          "metadata": {
            "tags": []
          },
          "execution_count": 15
        }
      ]
    },
    {
      "cell_type": "code",
      "metadata": {
        "colab": {
          "base_uri": "https://localhost:8080/"
        },
        "id": "TxXiQ-bH0zQJ",
        "outputId": "893214c2-f756-42b8-e904-2c9d8b9cec40"
      },
      "source": [
        "test_results(promotion_strategy, df_test)"
      ],
      "execution_count": 16,
      "outputs": [
        {
          "output_type": "stream",
          "text": [
            "4306 2094\n",
            "Your irr with this strategy is 0.0548.\n",
            "\n",
            "Your nir with this strategy is 4144.10.\n"
          ],
          "name": "stdout"
        },
        {
          "output_type": "execute_result",
          "data": {
            "text/plain": [
              "(0.05481633987536992, 4144.1)"
            ]
          },
          "metadata": {
            "tags": []
          },
          "execution_count": 16
        }
      ]
    },
    {
      "cell_type": "code",
      "metadata": {
        "colab": {
          "base_uri": "https://localhost:8080/",
          "height": 422
        },
        "id": "-DfTVA4p1ckN",
        "outputId": "5defadfd-6811-4202-baaf-3a47f60e3e35"
      },
      "source": [
        "response = []\r\n",
        "\r\n",
        "for index, row in df_train.iterrows():\r\n",
        "    if (row['target'] == 1) and (row['treatment']==1):\r\n",
        "        response.append(1.0)\r\n",
        "    else:\r\n",
        "        response.append(0.0)\r\n",
        "        \r\n",
        "df_train['response'] = response\r\n",
        "df_train"
      ],
      "execution_count": 17,
      "outputs": [
        {
          "output_type": "execute_result",
          "data": {
            "text/html": [
              "<div>\n",
              "<style scoped>\n",
              "    .dataframe tbody tr th:only-of-type {\n",
              "        vertical-align: middle;\n",
              "    }\n",
              "\n",
              "    .dataframe tbody tr th {\n",
              "        vertical-align: top;\n",
              "    }\n",
              "\n",
              "    .dataframe thead th {\n",
              "        text-align: right;\n",
              "    }\n",
              "</style>\n",
              "<table border=\"1\" class=\"dataframe\">\n",
              "  <thead>\n",
              "    <tr style=\"text-align: right;\">\n",
              "      <th></th>\n",
              "      <th>recency</th>\n",
              "      <th>history</th>\n",
              "      <th>used_discount</th>\n",
              "      <th>used_bogo</th>\n",
              "      <th>is_referral</th>\n",
              "      <th>treatment</th>\n",
              "      <th>zip_code_Rural</th>\n",
              "      <th>zip_code_Surburban</th>\n",
              "      <th>zip_code_Urban</th>\n",
              "      <th>channel_Multichannel</th>\n",
              "      <th>channel_Phone</th>\n",
              "      <th>channel_Web</th>\n",
              "      <th>target</th>\n",
              "      <th>response</th>\n",
              "    </tr>\n",
              "  </thead>\n",
              "  <tbody>\n",
              "    <tr>\n",
              "      <th>10954</th>\n",
              "      <td>12</td>\n",
              "      <td>249.19</td>\n",
              "      <td>1</td>\n",
              "      <td>0</td>\n",
              "      <td>0</td>\n",
              "      <td>0</td>\n",
              "      <td>0</td>\n",
              "      <td>1</td>\n",
              "      <td>0</td>\n",
              "      <td>1</td>\n",
              "      <td>0</td>\n",
              "      <td>0</td>\n",
              "      <td>0</td>\n",
              "      <td>0.0</td>\n",
              "    </tr>\n",
              "    <tr>\n",
              "      <th>39682</th>\n",
              "      <td>10</td>\n",
              "      <td>104.04</td>\n",
              "      <td>1</td>\n",
              "      <td>0</td>\n",
              "      <td>0</td>\n",
              "      <td>1</td>\n",
              "      <td>0</td>\n",
              "      <td>0</td>\n",
              "      <td>1</td>\n",
              "      <td>0</td>\n",
              "      <td>0</td>\n",
              "      <td>1</td>\n",
              "      <td>0</td>\n",
              "      <td>0.0</td>\n",
              "    </tr>\n",
              "    <tr>\n",
              "      <th>521</th>\n",
              "      <td>1</td>\n",
              "      <td>1515.82</td>\n",
              "      <td>1</td>\n",
              "      <td>1</td>\n",
              "      <td>1</td>\n",
              "      <td>1</td>\n",
              "      <td>0</td>\n",
              "      <td>1</td>\n",
              "      <td>0</td>\n",
              "      <td>1</td>\n",
              "      <td>0</td>\n",
              "      <td>0</td>\n",
              "      <td>1</td>\n",
              "      <td>1.0</td>\n",
              "    </tr>\n",
              "    <tr>\n",
              "      <th>15569</th>\n",
              "      <td>2</td>\n",
              "      <td>29.99</td>\n",
              "      <td>1</td>\n",
              "      <td>0</td>\n",
              "      <td>1</td>\n",
              "      <td>1</td>\n",
              "      <td>0</td>\n",
              "      <td>1</td>\n",
              "      <td>0</td>\n",
              "      <td>0</td>\n",
              "      <td>1</td>\n",
              "      <td>0</td>\n",
              "      <td>0</td>\n",
              "      <td>0.0</td>\n",
              "    </tr>\n",
              "    <tr>\n",
              "      <th>31460</th>\n",
              "      <td>12</td>\n",
              "      <td>29.99</td>\n",
              "      <td>1</td>\n",
              "      <td>0</td>\n",
              "      <td>0</td>\n",
              "      <td>1</td>\n",
              "      <td>0</td>\n",
              "      <td>1</td>\n",
              "      <td>0</td>\n",
              "      <td>0</td>\n",
              "      <td>0</td>\n",
              "      <td>1</td>\n",
              "      <td>0</td>\n",
              "      <td>0.0</td>\n",
              "    </tr>\n",
              "    <tr>\n",
              "      <th>...</th>\n",
              "      <td>...</td>\n",
              "      <td>...</td>\n",
              "      <td>...</td>\n",
              "      <td>...</td>\n",
              "      <td>...</td>\n",
              "      <td>...</td>\n",
              "      <td>...</td>\n",
              "      <td>...</td>\n",
              "      <td>...</td>\n",
              "      <td>...</td>\n",
              "      <td>...</td>\n",
              "      <td>...</td>\n",
              "      <td>...</td>\n",
              "      <td>...</td>\n",
              "    </tr>\n",
              "    <tr>\n",
              "      <th>42046</th>\n",
              "      <td>2</td>\n",
              "      <td>29.99</td>\n",
              "      <td>0</td>\n",
              "      <td>1</td>\n",
              "      <td>1</td>\n",
              "      <td>1</td>\n",
              "      <td>0</td>\n",
              "      <td>0</td>\n",
              "      <td>1</td>\n",
              "      <td>0</td>\n",
              "      <td>0</td>\n",
              "      <td>1</td>\n",
              "      <td>0</td>\n",
              "      <td>0.0</td>\n",
              "    </tr>\n",
              "    <tr>\n",
              "      <th>3437</th>\n",
              "      <td>11</td>\n",
              "      <td>256.08</td>\n",
              "      <td>0</td>\n",
              "      <td>1</td>\n",
              "      <td>1</td>\n",
              "      <td>1</td>\n",
              "      <td>0</td>\n",
              "      <td>1</td>\n",
              "      <td>0</td>\n",
              "      <td>0</td>\n",
              "      <td>0</td>\n",
              "      <td>1</td>\n",
              "      <td>0</td>\n",
              "      <td>0.0</td>\n",
              "    </tr>\n",
              "    <tr>\n",
              "      <th>1696</th>\n",
              "      <td>11</td>\n",
              "      <td>385.44</td>\n",
              "      <td>0</td>\n",
              "      <td>1</td>\n",
              "      <td>0</td>\n",
              "      <td>1</td>\n",
              "      <td>0</td>\n",
              "      <td>1</td>\n",
              "      <td>0</td>\n",
              "      <td>0</td>\n",
              "      <td>0</td>\n",
              "      <td>1</td>\n",
              "      <td>1</td>\n",
              "      <td>1.0</td>\n",
              "    </tr>\n",
              "    <tr>\n",
              "      <th>27103</th>\n",
              "      <td>5</td>\n",
              "      <td>37.87</td>\n",
              "      <td>0</td>\n",
              "      <td>1</td>\n",
              "      <td>1</td>\n",
              "      <td>0</td>\n",
              "      <td>0</td>\n",
              "      <td>0</td>\n",
              "      <td>1</td>\n",
              "      <td>0</td>\n",
              "      <td>0</td>\n",
              "      <td>1</td>\n",
              "      <td>0</td>\n",
              "      <td>0.0</td>\n",
              "    </tr>\n",
              "    <tr>\n",
              "      <th>52279</th>\n",
              "      <td>1</td>\n",
              "      <td>623.35</td>\n",
              "      <td>1</td>\n",
              "      <td>1</td>\n",
              "      <td>1</td>\n",
              "      <td>1</td>\n",
              "      <td>0</td>\n",
              "      <td>0</td>\n",
              "      <td>1</td>\n",
              "      <td>0</td>\n",
              "      <td>1</td>\n",
              "      <td>0</td>\n",
              "      <td>0</td>\n",
              "      <td>0.0</td>\n",
              "    </tr>\n",
              "  </tbody>\n",
              "</table>\n",
              "<p>57600 rows × 14 columns</p>\n",
              "</div>"
            ],
            "text/plain": [
              "       recency  history  used_discount  ...  channel_Web  target  response\n",
              "10954       12   249.19              1  ...            0       0       0.0\n",
              "39682       10   104.04              1  ...            1       0       0.0\n",
              "521          1  1515.82              1  ...            0       1       1.0\n",
              "15569        2    29.99              1  ...            0       0       0.0\n",
              "31460       12    29.99              1  ...            1       0       0.0\n",
              "...        ...      ...            ...  ...          ...     ...       ...\n",
              "42046        2    29.99              0  ...            1       0       0.0\n",
              "3437        11   256.08              0  ...            1       0       0.0\n",
              "1696        11   385.44              0  ...            1       1       1.0\n",
              "27103        5    37.87              0  ...            1       0       0.0\n",
              "52279        1   623.35              1  ...            0       0       0.0\n",
              "\n",
              "[57600 rows x 14 columns]"
            ]
          },
          "metadata": {
            "tags": []
          },
          "execution_count": 17
        }
      ]
    },
    {
      "cell_type": "code",
      "metadata": {
        "id": "2aY1udaW3Jay"
      },
      "source": [
        "train, valid = sk.model_selection.train_test_split(df_train, test_size=0.2,random_state=42, stratify=df_train.target)"
      ],
      "execution_count": 18,
      "outputs": []
    },
    {
      "cell_type": "code",
      "metadata": {
        "id": "jq3Bnzgq2Irm"
      },
      "source": [
        "# generate features and labels\r\n",
        "Y_train = train['response']\r\n",
        "X_train = train[features]\r\n",
        "\r\n",
        "Y_valid = valid['response']\r\n",
        "X_valid = valid[features]"
      ],
      "execution_count": 19,
      "outputs": []
    },
    {
      "cell_type": "code",
      "metadata": {
        "colab": {
          "base_uri": "https://localhost:8080/"
        },
        "id": "yB1us5502dGO",
        "outputId": "822c684e-0bbf-42dd-c146-2abe68af8db0"
      },
      "source": [
        "Y_train.value_counts()"
      ],
      "execution_count": 20,
      "outputs": [
        {
          "output_type": "execute_result",
          "data": {
            "text/plain": [
              "0.0    40955\n",
              "1.0     5125\n",
              "Name: response, dtype: int64"
            ]
          },
          "metadata": {
            "tags": []
          },
          "execution_count": 20
        }
      ]
    },
    {
      "cell_type": "code",
      "metadata": {
        "colab": {
          "base_uri": "https://localhost:8080/"
        },
        "id": "HZff_EaH3meM",
        "outputId": "ae179bba-ce44-4d7b-a930-9a0ff1ad45af"
      },
      "source": [
        "Y_valid.value_counts()"
      ],
      "execution_count": 21,
      "outputs": [
        {
          "output_type": "execute_result",
          "data": {
            "text/plain": [
              "0.0    10222\n",
              "1.0     1298\n",
              "Name: response, dtype: int64"
            ]
          },
          "metadata": {
            "tags": []
          },
          "execution_count": 21
        }
      ]
    },
    {
      "cell_type": "code",
      "metadata": {
        "colab": {
          "base_uri": "https://localhost:8080/"
        },
        "id": "LoTl0Trq4BNj",
        "outputId": "c81756b7-0eba-481d-d3ce-bac6e8a5beab"
      },
      "source": [
        "\r\n",
        "# up sample only the train dataset with SMOTE\r\n",
        "sm = SMOTE(random_state=42, ratio = 1.0)\r\n",
        "X_train_upsamp, Y_train_upsamp = sm.fit_sample(X_train, Y_train)\r\n",
        "    \r\n",
        "X_train_upsamp = pd.DataFrame(X_train_upsamp, columns=features)\r\n",
        "\r\n",
        "Y_train_upsamp = pd.Series(Y_train_upsamp)"
      ],
      "execution_count": 22,
      "outputs": [
        {
          "output_type": "stream",
          "text": [
            "/usr/local/lib/python3.6/dist-packages/sklearn/utils/deprecation.py:87: FutureWarning: Function safe_indexing is deprecated; safe_indexing is deprecated in version 0.22 and will be removed in version 0.24.\n",
            "  warnings.warn(msg, category=FutureWarning)\n"
          ],
          "name": "stderr"
        }
      ]
    },
    {
      "cell_type": "code",
      "metadata": {
        "colab": {
          "base_uri": "https://localhost:8080/"
        },
        "id": "RpS9uUUh2sgT",
        "outputId": "80e489b5-8868-4c53-884f-727b31a0e4dc"
      },
      "source": [
        "# Train an xgboost model\r\n",
        "eval_set = [(X_train_upsamp, Y_train_upsamp), (X_valid, Y_valid)]\r\n",
        "model = xgb.XGBClassifier(learning_rate = 0.1,\\\r\n",
        "                          max_depth = 7,\\\r\n",
        "                          min_child_weight = 5,\\\r\n",
        "                          objective = 'binary:logistic',\\\r\n",
        "                          seed = 42,\\\r\n",
        "                          gamma = 0.1,\\\r\n",
        "                          silent = True)\r\n",
        "model.fit(X_train_upsamp, Y_train_upsamp, eval_set=eval_set,\\\r\n",
        "          eval_metric=\"auc\", verbose=True, early_stopping_rounds=30)"
      ],
      "execution_count": 23,
      "outputs": [
        {
          "output_type": "stream",
          "text": [
            "[0]\tvalidation_0-auc:0.870391\tvalidation_1-auc:0.565878\n",
            "Multiple eval metrics have been passed: 'validation_1-auc' will be used for early stopping.\n",
            "\n",
            "Will train until validation_1-auc hasn't improved in 30 rounds.\n",
            "[1]\tvalidation_0-auc:0.883519\tvalidation_1-auc:0.568454\n",
            "[2]\tvalidation_0-auc:0.884713\tvalidation_1-auc:0.571194\n",
            "[3]\tvalidation_0-auc:0.891027\tvalidation_1-auc:0.569992\n",
            "[4]\tvalidation_0-auc:0.897214\tvalidation_1-auc:0.571875\n",
            "[5]\tvalidation_0-auc:0.90218\tvalidation_1-auc:0.571838\n",
            "[6]\tvalidation_0-auc:0.908308\tvalidation_1-auc:0.572569\n",
            "[7]\tvalidation_0-auc:0.91063\tvalidation_1-auc:0.57281\n",
            "[8]\tvalidation_0-auc:0.913348\tvalidation_1-auc:0.572216\n",
            "[9]\tvalidation_0-auc:0.915227\tvalidation_1-auc:0.572833\n",
            "[10]\tvalidation_0-auc:0.917968\tvalidation_1-auc:0.572911\n",
            "[11]\tvalidation_0-auc:0.918374\tvalidation_1-auc:0.572141\n",
            "[12]\tvalidation_0-auc:0.919957\tvalidation_1-auc:0.571754\n",
            "[13]\tvalidation_0-auc:0.921053\tvalidation_1-auc:0.570931\n",
            "[14]\tvalidation_0-auc:0.92283\tvalidation_1-auc:0.570283\n",
            "[15]\tvalidation_0-auc:0.923405\tvalidation_1-auc:0.570443\n",
            "[16]\tvalidation_0-auc:0.925438\tvalidation_1-auc:0.570738\n",
            "[17]\tvalidation_0-auc:0.925872\tvalidation_1-auc:0.570084\n",
            "[18]\tvalidation_0-auc:0.926578\tvalidation_1-auc:0.569396\n",
            "[19]\tvalidation_0-auc:0.9277\tvalidation_1-auc:0.569268\n",
            "[20]\tvalidation_0-auc:0.928277\tvalidation_1-auc:0.569184\n",
            "[21]\tvalidation_0-auc:0.928666\tvalidation_1-auc:0.568467\n",
            "[22]\tvalidation_0-auc:0.929777\tvalidation_1-auc:0.568264\n",
            "[23]\tvalidation_0-auc:0.930102\tvalidation_1-auc:0.567579\n",
            "[24]\tvalidation_0-auc:0.930739\tvalidation_1-auc:0.56744\n",
            "[25]\tvalidation_0-auc:0.931618\tvalidation_1-auc:0.566417\n",
            "[26]\tvalidation_0-auc:0.931937\tvalidation_1-auc:0.565873\n",
            "[27]\tvalidation_0-auc:0.932796\tvalidation_1-auc:0.565987\n",
            "[28]\tvalidation_0-auc:0.933119\tvalidation_1-auc:0.56557\n",
            "[29]\tvalidation_0-auc:0.935077\tvalidation_1-auc:0.565928\n",
            "[30]\tvalidation_0-auc:0.93629\tvalidation_1-auc:0.566069\n",
            "[31]\tvalidation_0-auc:0.936542\tvalidation_1-auc:0.565996\n",
            "[32]\tvalidation_0-auc:0.936819\tvalidation_1-auc:0.566158\n",
            "[33]\tvalidation_0-auc:0.937644\tvalidation_1-auc:0.566467\n",
            "[34]\tvalidation_0-auc:0.938056\tvalidation_1-auc:0.566384\n",
            "[35]\tvalidation_0-auc:0.938687\tvalidation_1-auc:0.566524\n",
            "[36]\tvalidation_0-auc:0.939031\tvalidation_1-auc:0.566283\n",
            "[37]\tvalidation_0-auc:0.939261\tvalidation_1-auc:0.565948\n",
            "[38]\tvalidation_0-auc:0.939654\tvalidation_1-auc:0.565345\n",
            "[39]\tvalidation_0-auc:0.939945\tvalidation_1-auc:0.565088\n",
            "[40]\tvalidation_0-auc:0.940761\tvalidation_1-auc:0.565395\n",
            "Stopping. Best iteration:\n",
            "[10]\tvalidation_0-auc:0.917968\tvalidation_1-auc:0.572911\n",
            "\n"
          ],
          "name": "stdout"
        },
        {
          "output_type": "execute_result",
          "data": {
            "text/plain": [
              "XGBClassifier(base_score=0.5, booster='gbtree', colsample_bylevel=1,\n",
              "              colsample_bynode=1, colsample_bytree=1, gamma=0.1,\n",
              "              learning_rate=0.1, max_delta_step=0, max_depth=7,\n",
              "              min_child_weight=5, missing=None, n_estimators=100, n_jobs=1,\n",
              "              nthread=None, objective='binary:logistic', random_state=0,\n",
              "              reg_alpha=0, reg_lambda=1, scale_pos_weight=1, seed=42,\n",
              "              silent=True, subsample=1, verbosity=1)"
            ]
          },
          "metadata": {
            "tags": []
          },
          "execution_count": 23
        }
      ]
    },
    {
      "cell_type": "code",
      "metadata": {
        "colab": {
          "base_uri": "https://localhost:8080/",
          "height": 1000
        },
        "id": "J5SE0wz23tfn",
        "outputId": "a8430c15-969a-43d2-ff3e-d2227009142c"
      },
      "source": [
        "# check which features are important\r\n",
        "\r\n",
        "from xgboost import plot_importance\r\n",
        "from matplotlib import pyplot\r\n",
        "\r\n",
        "fig, ax = pyplot.subplots(figsize=(10, 18));\r\n",
        "xgb.plot_importance(model, ax=ax);"
      ],
      "execution_count": 24,
      "outputs": [
        {
          "output_type": "display_data",
          "data": {
            "image/png": "[encoded data removed]",
            "text/plain": [
              "<Figure size 720x1296 with 1 Axes>"
            ]
          },
          "metadata": {
            "tags": [],
            "needs_background": "light"
          }
        }
      ]
    },
    {
      "cell_type": "code",
      "metadata": {
        "colab": {
          "base_uri": "https://localhost:8080/"
        },
        "id": "HNoFVl1Q3zYW",
        "outputId": "f2bc16c7-3bb2-47c1-a397-d713d484dbc6"
      },
      "source": [
        "\r\n",
        "# confusion matrix\r\n",
        "valid_pred = model.predict(X_valid, ntree_limit=model.best_ntree_limit)\r\n",
        "cm = sk.metrics.confusion_matrix\r\n",
        "cm(Y_valid, valid_pred)"
      ],
      "execution_count": 25,
      "outputs": [
        {
          "output_type": "execute_result",
          "data": {
            "text/plain": [
              "array([[10025,   197],\n",
              "       [ 1266,    32]])"
            ]
          },
          "metadata": {
            "tags": []
          },
          "execution_count": 25
        }
      ]
    },
    {
      "cell_type": "code",
      "metadata": {
        "colab": {
          "base_uri": "https://localhost:8080/",
          "height": 621
        },
        "id": "5WM-XxLQ37Et",
        "outputId": "6203d87f-743f-48c0-e962-b99e87634e19"
      },
      "source": [
        "valid_pred = model.predict(X_valid, ntree_limit=model.best_ntree_limit)\r\n",
        "cm = sk.metrics.confusion_matrix(Y_valid, valid_pred)\r\n",
        "\r\n",
        "fig, ax= plt.subplots(figsize=(10,10))\r\n",
        "sb.heatmap(cm, annot=True, fmt='g', ax = ax); #annot=True to annotate cells\r\n",
        "\r\n",
        "# labels, title and ticks\r\n",
        "ax.set_xlabel('Predicted labels');\r\n",
        "ax.set_ylabel('True labels'); \r\n",
        "ax.set_title('Confusion Matrix'); \r\n",
        "ax.xaxis.set_ticklabels(['No Purchase', 'Made Purchase']); \r\n",
        "ax.yaxis.set_ticklabels(['No Purchase', 'Made Purchase']);"
      ],
      "execution_count": 26,
      "outputs": [
        {
          "output_type": "display_data",
          "data": {
            "image/png": "[encoded data removed]",
            "text/plain": [
              "<Figure size 720x720 with 2 Axes>"
            ]
          },
          "metadata": {
            "tags": [],
            "needs_background": "light"
          }
        }
      ]
    },
    {
      "cell_type": "code",
      "metadata": {
        "id": "sizjL5Uy5Qul"
      },
      "source": [
        "def promotion_strategy(df):\r\n",
        "\r\n",
        "    test = df\r\n",
        "    \r\n",
        "    preds = model.predict(test, ntree_limit=model.best_ntree_limit)\r\n",
        "\r\n",
        "    promotion = []\r\n",
        "    for pred in preds:\r\n",
        "        if pred == 1:\r\n",
        "         promotion.append('Yes')\r\n",
        "        else:\r\n",
        "          promotion.append('No')\r\n",
        "    promotion = np.array(promotion)\r\n",
        "    return promotion"
      ],
      "execution_count": 27,
      "outputs": []
    },
    {
      "cell_type": "code",
      "metadata": {
        "colab": {
          "base_uri": "https://localhost:8080/"
        },
        "id": "GsU8bRmC5x0u",
        "outputId": "1c130808-bf53-4c6f-8a22-e16fee255154"
      },
      "source": [
        "valid_results(promotion_strategy, valid)"
      ],
      "execution_count": 28,
      "outputs": [
        {
          "output_type": "stream",
          "text": [
            "157 72\n",
            "Your irr with this strategy is 0.1066.\n",
            "\n",
            "Your nir with this strategy is 226.45.\n"
          ],
          "name": "stdout"
        },
        {
          "output_type": "execute_result",
          "data": {
            "text/plain": [
              "(0.1065994338287332, 226.45)"
            ]
          },
          "metadata": {
            "tags": []
          },
          "execution_count": 28
        }
      ]
    },
    {
      "cell_type": "code",
      "metadata": {
        "id": "ogyaMDpr_faT"
      },
      "source": [
        ""
      ],
      "execution_count": 28,
      "outputs": []
    },
    {
      "cell_type": "code",
      "metadata": {
        "colab": {
          "base_uri": "https://localhost:8080/"
        },
        "id": "4gkYVb_eACut",
        "outputId": "54a2582c-b10d-42a5-9f3a-e2cdfdf8581c"
      },
      "source": [
        "\r\n",
        "target = []\r\n",
        "for index, row in df_train.iterrows():\r\n",
        "    if (row['treatment'] == 1) & (row['target'] == 1):\r\n",
        "        # TR group\r\n",
        "        target.append(0)\r\n",
        "    elif (row['treatment'] == 0) & (row['target'] == 1):\r\n",
        "        # CR group\r\n",
        "        target.append(1)\r\n",
        "    elif (row['treatment'] == 1) & (row['target'] == 0):\r\n",
        "        # TN group\r\n",
        "        target.append(2)\r\n",
        "    else: #CN group\r\n",
        "        target.append(3)\r\n",
        "\r\n",
        "df_train['target'] = target\r\n",
        "print(len(df_train[df_train['target']==0]))\r\n",
        "print(len(df_train[df_train['target']==1]))\r\n",
        "print(len(df_train[df_train['target']==2]))\r\n",
        "print(len(df_train[df_train['target']==3]))"
      ],
      "execution_count": 29,
      "outputs": [
        {
          "output_type": "stream",
          "text": [
            "6423\n",
            "2032\n",
            "31965\n",
            "17180\n"
          ],
          "name": "stdout"
        }
      ]
    },
    {
      "cell_type": "code",
      "metadata": {
        "id": "CeeQT-RKAYXd"
      },
      "source": [
        "\r\n",
        "train, valid = sk.model_selection.train_test_split(df_train, test_size=0.2, random_state=42, stratify=df_train.target)\r\n",
        "\r\n",
        "features = ['recency', 'history', 'used_discount', 'used_bogo', 'is_referral', 'zip_code_Rural', 'zip_code_Surburban', 'zip_code_Urban', 'channel_Multichannel', 'channel_Phone', 'channel_Web']\r\n",
        "\r\n",
        "Y_train = train['target']\r\n",
        "X_train = train[features]\r\n",
        "\r\n",
        "Y_valid = valid['target']\r\n",
        "X_valid = valid[features]"
      ],
      "execution_count": 30,
      "outputs": []
    },
    {
      "cell_type": "code",
      "metadata": {
        "colab": {
          "base_uri": "https://localhost:8080/"
        },
        "id": "u1tTPwi1B3NT",
        "outputId": "48caa38a-0cfb-476e-9d1a-3480f4895717"
      },
      "source": [
        "Y_train.value_counts()"
      ],
      "execution_count": 31,
      "outputs": [
        {
          "output_type": "execute_result",
          "data": {
            "text/plain": [
              "2    25572\n",
              "3    13744\n",
              "0     5138\n",
              "1     1626\n",
              "Name: target, dtype: int64"
            ]
          },
          "metadata": {
            "tags": []
          },
          "execution_count": 31
        }
      ]
    },
    {
      "cell_type": "code",
      "metadata": {
        "colab": {
          "base_uri": "https://localhost:8080/"
        },
        "id": "eiHZtr-HCDhw",
        "outputId": "c9d5e8ac-8f75-44c2-ebb2-1dfe70060490"
      },
      "source": [
        "Y_valid.value_counts()"
      ],
      "execution_count": 32,
      "outputs": [
        {
          "output_type": "execute_result",
          "data": {
            "text/plain": [
              "2    6393\n",
              "3    3436\n",
              "0    1285\n",
              "1     406\n",
              "Name: target, dtype: int64"
            ]
          },
          "metadata": {
            "tags": []
          },
          "execution_count": 32
        }
      ]
    },
    {
      "cell_type": "code",
      "metadata": {
        "colab": {
          "base_uri": "https://localhost:8080/"
        },
        "id": "9GQzCmFxB83L",
        "outputId": "5f657ef3-3272-4c2e-ef46-900ea688715d"
      },
      "source": [
        "# up sample with SMOTE\r\n",
        "sm = SMOTE({0:25572, 1:25572, 2:25572, 3:25572}, random_state=42)\r\n",
        "X_train_upsamp, Y_train_upsamp = sm.fit_sample(X_train, Y_train)\r\n",
        "    \r\n",
        "X_train_upsamp = pd.DataFrame(X_train_upsamp, columns=features)\r\n",
        "\r\n",
        "Y_train_upsamp = pd.Series(Y_train_upsamp)\r\n",
        "Y_train_upsamp.value_counts()"
      ],
      "execution_count": 33,
      "outputs": [
        {
          "output_type": "stream",
          "text": [
            "/usr/local/lib/python3.6/dist-packages/sklearn/utils/deprecation.py:87: FutureWarning: Function safe_indexing is deprecated; safe_indexing is deprecated in version 0.22 and will be removed in version 0.24.\n",
            "  warnings.warn(msg, category=FutureWarning)\n",
            "/usr/local/lib/python3.6/dist-packages/sklearn/utils/deprecation.py:87: FutureWarning: Function safe_indexing is deprecated; safe_indexing is deprecated in version 0.22 and will be removed in version 0.24.\n",
            "  warnings.warn(msg, category=FutureWarning)\n",
            "/usr/local/lib/python3.6/dist-packages/sklearn/utils/deprecation.py:87: FutureWarning: Function safe_indexing is deprecated; safe_indexing is deprecated in version 0.22 and will be removed in version 0.24.\n",
            "  warnings.warn(msg, category=FutureWarning)\n"
          ],
          "name": "stderr"
        },
        {
          "output_type": "execute_result",
          "data": {
            "text/plain": [
              "3    25572\n",
              "2    25572\n",
              "1    25572\n",
              "0    25572\n",
              "dtype: int64"
            ]
          },
          "metadata": {
            "tags": []
          },
          "execution_count": 33
        }
      ]
    },
    {
      "cell_type": "code",
      "metadata": {
        "colab": {
          "base_uri": "https://localhost:8080/"
        },
        "id": "GnbKk7QFCMAQ",
        "outputId": "dc466e80-f400-43aa-abb6-85d405235f22"
      },
      "source": [
        "\r\n",
        "eval_set = [(X_train_upsamp, Y_train_upsamp), (X_valid, Y_valid)]\r\n",
        "model = xgb.XGBClassifier(learning_rate = 0.1,\\\r\n",
        "                          num_class=4,\\\r\n",
        "                                  max_depth = 7,\\\r\n",
        "                                  min_child_weight = 5,\\\r\n",
        "                                  objective = 'multi:softmax',\\\r\n",
        "                                  seed = 42,\\\r\n",
        "                                  gamma = 0.1,\\\r\n",
        "                                  silent = True)\r\n",
        "model.fit(X_train_upsamp, Y_train_upsamp, eval_set=eval_set,\\\r\n",
        "                    eval_metric=\"mlogloss\", verbose=True, early_stopping_rounds=30)"
      ],
      "execution_count": 34,
      "outputs": [
        {
          "output_type": "stream",
          "text": [
            "[0]\tvalidation_0-mlogloss:1.35535\tvalidation_1-mlogloss:1.35901\n",
            "Multiple eval metrics have been passed: 'validation_1-mlogloss' will be used for early stopping.\n",
            "\n",
            "Will train until validation_1-mlogloss hasn't improved in 30 rounds.\n",
            "[1]\tvalidation_0-mlogloss:1.32873\tvalidation_1-mlogloss:1.3353\n",
            "[2]\tvalidation_0-mlogloss:1.30469\tvalidation_1-mlogloss:1.31392\n",
            "[3]\tvalidation_0-mlogloss:1.28347\tvalidation_1-mlogloss:1.29494\n",
            "[4]\tvalidation_0-mlogloss:1.26425\tvalidation_1-mlogloss:1.27796\n",
            "[5]\tvalidation_0-mlogloss:1.24664\tvalidation_1-mlogloss:1.26252\n",
            "[6]\tvalidation_0-mlogloss:1.23067\tvalidation_1-mlogloss:1.24899\n",
            "[7]\tvalidation_0-mlogloss:1.21606\tvalidation_1-mlogloss:1.23626\n",
            "[8]\tvalidation_0-mlogloss:1.20279\tvalidation_1-mlogloss:1.22482\n",
            "[9]\tvalidation_0-mlogloss:1.18974\tvalidation_1-mlogloss:1.21409\n",
            "[10]\tvalidation_0-mlogloss:1.17787\tvalidation_1-mlogloss:1.20403\n",
            "[11]\tvalidation_0-mlogloss:1.16714\tvalidation_1-mlogloss:1.19524\n",
            "[12]\tvalidation_0-mlogloss:1.15629\tvalidation_1-mlogloss:1.18674\n",
            "[13]\tvalidation_0-mlogloss:1.1464\tvalidation_1-mlogloss:1.179\n",
            "[14]\tvalidation_0-mlogloss:1.1378\tvalidation_1-mlogloss:1.17193\n",
            "[15]\tvalidation_0-mlogloss:1.12896\tvalidation_1-mlogloss:1.16538\n",
            "[16]\tvalidation_0-mlogloss:1.12044\tvalidation_1-mlogloss:1.15939\n",
            "[17]\tvalidation_0-mlogloss:1.11288\tvalidation_1-mlogloss:1.15403\n",
            "[18]\tvalidation_0-mlogloss:1.10531\tvalidation_1-mlogloss:1.14881\n",
            "[19]\tvalidation_0-mlogloss:1.09792\tvalidation_1-mlogloss:1.14387\n",
            "[20]\tvalidation_0-mlogloss:1.09148\tvalidation_1-mlogloss:1.13967\n",
            "[21]\tvalidation_0-mlogloss:1.08525\tvalidation_1-mlogloss:1.13548\n",
            "[22]\tvalidation_0-mlogloss:1.07895\tvalidation_1-mlogloss:1.13167\n",
            "[23]\tvalidation_0-mlogloss:1.07356\tvalidation_1-mlogloss:1.12847\n",
            "[24]\tvalidation_0-mlogloss:1.06806\tvalidation_1-mlogloss:1.12502\n",
            "[25]\tvalidation_0-mlogloss:1.06286\tvalidation_1-mlogloss:1.12215\n",
            "[26]\tvalidation_0-mlogloss:1.05791\tvalidation_1-mlogloss:1.11916\n",
            "[27]\tvalidation_0-mlogloss:1.05339\tvalidation_1-mlogloss:1.11668\n",
            "[28]\tvalidation_0-mlogloss:1.04869\tvalidation_1-mlogloss:1.11446\n",
            "[29]\tvalidation_0-mlogloss:1.0443\tvalidation_1-mlogloss:1.1123\n",
            "[30]\tvalidation_0-mlogloss:1.0399\tvalidation_1-mlogloss:1.11032\n",
            "[31]\tvalidation_0-mlogloss:1.03557\tvalidation_1-mlogloss:1.10842\n",
            "[32]\tvalidation_0-mlogloss:1.03187\tvalidation_1-mlogloss:1.10654\n",
            "[33]\tvalidation_0-mlogloss:1.02818\tvalidation_1-mlogloss:1.10517\n",
            "[34]\tvalidation_0-mlogloss:1.02462\tvalidation_1-mlogloss:1.10366\n",
            "[35]\tvalidation_0-mlogloss:1.02093\tvalidation_1-mlogloss:1.10225\n",
            "[36]\tvalidation_0-mlogloss:1.01765\tvalidation_1-mlogloss:1.10083\n",
            "[37]\tvalidation_0-mlogloss:1.01445\tvalidation_1-mlogloss:1.09952\n",
            "[38]\tvalidation_0-mlogloss:1.01118\tvalidation_1-mlogloss:1.09828\n",
            "[39]\tvalidation_0-mlogloss:1.00811\tvalidation_1-mlogloss:1.09707\n",
            "[40]\tvalidation_0-mlogloss:1.0049\tvalidation_1-mlogloss:1.0959\n",
            "[41]\tvalidation_0-mlogloss:1.002\tvalidation_1-mlogloss:1.09473\n",
            "[42]\tvalidation_0-mlogloss:0.999203\tvalidation_1-mlogloss:1.09378\n",
            "[43]\tvalidation_0-mlogloss:0.996079\tvalidation_1-mlogloss:1.09286\n",
            "[44]\tvalidation_0-mlogloss:0.993521\tvalidation_1-mlogloss:1.09207\n",
            "[45]\tvalidation_0-mlogloss:0.990419\tvalidation_1-mlogloss:1.09113\n",
            "[46]\tvalidation_0-mlogloss:0.987823\tvalidation_1-mlogloss:1.09042\n",
            "[47]\tvalidation_0-mlogloss:0.985128\tvalidation_1-mlogloss:1.08977\n",
            "[48]\tvalidation_0-mlogloss:0.982685\tvalidation_1-mlogloss:1.08916\n",
            "[49]\tvalidation_0-mlogloss:0.979978\tvalidation_1-mlogloss:1.08863\n",
            "[50]\tvalidation_0-mlogloss:0.9776\tvalidation_1-mlogloss:1.08806\n",
            "[51]\tvalidation_0-mlogloss:0.975307\tvalidation_1-mlogloss:1.08748\n",
            "[52]\tvalidation_0-mlogloss:0.973191\tvalidation_1-mlogloss:1.08688\n",
            "[53]\tvalidation_0-mlogloss:0.970132\tvalidation_1-mlogloss:1.08595\n",
            "[54]\tvalidation_0-mlogloss:0.967889\tvalidation_1-mlogloss:1.08552\n",
            "[55]\tvalidation_0-mlogloss:0.965503\tvalidation_1-mlogloss:1.08492\n",
            "[56]\tvalidation_0-mlogloss:0.963238\tvalidation_1-mlogloss:1.08434\n",
            "[57]\tvalidation_0-mlogloss:0.961062\tvalidation_1-mlogloss:1.08386\n",
            "[58]\tvalidation_0-mlogloss:0.958979\tvalidation_1-mlogloss:1.0834\n",
            "[59]\tvalidation_0-mlogloss:0.956334\tvalidation_1-mlogloss:1.0831\n",
            "[60]\tvalidation_0-mlogloss:0.954323\tvalidation_1-mlogloss:1.0826\n",
            "[61]\tvalidation_0-mlogloss:0.951794\tvalidation_1-mlogloss:1.08202\n",
            "[62]\tvalidation_0-mlogloss:0.949731\tvalidation_1-mlogloss:1.08168\n",
            "[63]\tvalidation_0-mlogloss:0.947681\tvalidation_1-mlogloss:1.0812\n",
            "[64]\tvalidation_0-mlogloss:0.94609\tvalidation_1-mlogloss:1.08096\n",
            "[65]\tvalidation_0-mlogloss:0.944572\tvalidation_1-mlogloss:1.08062\n",
            "[66]\tvalidation_0-mlogloss:0.942771\tvalidation_1-mlogloss:1.08038\n",
            "[67]\tvalidation_0-mlogloss:0.941441\tvalidation_1-mlogloss:1.08008\n",
            "[68]\tvalidation_0-mlogloss:0.939216\tvalidation_1-mlogloss:1.07972\n",
            "[69]\tvalidation_0-mlogloss:0.937421\tvalidation_1-mlogloss:1.07936\n",
            "[70]\tvalidation_0-mlogloss:0.935782\tvalidation_1-mlogloss:1.07915\n",
            "[71]\tvalidation_0-mlogloss:0.933563\tvalidation_1-mlogloss:1.07887\n",
            "[72]\tvalidation_0-mlogloss:0.932433\tvalidation_1-mlogloss:1.0787\n",
            "[73]\tvalidation_0-mlogloss:0.930809\tvalidation_1-mlogloss:1.07843\n",
            "[74]\tvalidation_0-mlogloss:0.929135\tvalidation_1-mlogloss:1.07833\n",
            "[75]\tvalidation_0-mlogloss:0.927317\tvalidation_1-mlogloss:1.07815\n",
            "[76]\tvalidation_0-mlogloss:0.925284\tvalidation_1-mlogloss:1.07797\n",
            "[77]\tvalidation_0-mlogloss:0.923879\tvalidation_1-mlogloss:1.07779\n",
            "[78]\tvalidation_0-mlogloss:0.922236\tvalidation_1-mlogloss:1.07762\n",
            "[79]\tvalidation_0-mlogloss:0.920406\tvalidation_1-mlogloss:1.07735\n",
            "[80]\tvalidation_0-mlogloss:0.919078\tvalidation_1-mlogloss:1.07699\n",
            "[81]\tvalidation_0-mlogloss:0.917942\tvalidation_1-mlogloss:1.07677\n",
            "[82]\tvalidation_0-mlogloss:0.916538\tvalidation_1-mlogloss:1.07656\n",
            "[83]\tvalidation_0-mlogloss:0.91519\tvalidation_1-mlogloss:1.07632\n",
            "[84]\tvalidation_0-mlogloss:0.914205\tvalidation_1-mlogloss:1.07611\n",
            "[85]\tvalidation_0-mlogloss:0.913175\tvalidation_1-mlogloss:1.07593\n",
            "[86]\tvalidation_0-mlogloss:0.912215\tvalidation_1-mlogloss:1.07576\n",
            "[87]\tvalidation_0-mlogloss:0.910962\tvalidation_1-mlogloss:1.07548\n",
            "[88]\tvalidation_0-mlogloss:0.909961\tvalidation_1-mlogloss:1.07539\n",
            "[89]\tvalidation_0-mlogloss:0.908739\tvalidation_1-mlogloss:1.07525\n",
            "[90]\tvalidation_0-mlogloss:0.907804\tvalidation_1-mlogloss:1.07514\n",
            "[91]\tvalidation_0-mlogloss:0.907032\tvalidation_1-mlogloss:1.07502\n",
            "[92]\tvalidation_0-mlogloss:0.905878\tvalidation_1-mlogloss:1.07482\n",
            "[93]\tvalidation_0-mlogloss:0.904465\tvalidation_1-mlogloss:1.0748\n",
            "[94]\tvalidation_0-mlogloss:0.903425\tvalidation_1-mlogloss:1.07463\n",
            "[95]\tvalidation_0-mlogloss:0.902191\tvalidation_1-mlogloss:1.07451\n",
            "[96]\tvalidation_0-mlogloss:0.900882\tvalidation_1-mlogloss:1.07449\n",
            "[97]\tvalidation_0-mlogloss:0.899496\tvalidation_1-mlogloss:1.07435\n",
            "[98]\tvalidation_0-mlogloss:0.898577\tvalidation_1-mlogloss:1.07425\n",
            "[99]\tvalidation_0-mlogloss:0.897356\tvalidation_1-mlogloss:1.07401\n"
          ],
          "name": "stdout"
        },
        {
          "output_type": "execute_result",
          "data": {
            "text/plain": [
              "XGBClassifier(base_score=0.5, booster='gbtree', colsample_bylevel=1,\n",
              "              colsample_bynode=1, colsample_bytree=1, gamma=0.1,\n",
              "              learning_rate=0.1, max_delta_step=0, max_depth=7,\n",
              "              min_child_weight=5, missing=None, n_estimators=100, n_jobs=1,\n",
              "              nthread=None, num_class=4, objective='multi:softprob',\n",
              "              random_state=0, reg_alpha=0, reg_lambda=1, scale_pos_weight=1,\n",
              "              seed=42, silent=True, subsample=1, verbosity=1)"
            ]
          },
          "metadata": {
            "tags": []
          },
          "execution_count": 34
        }
      ]
    },
    {
      "cell_type": "code",
      "metadata": {
        "colab": {
          "base_uri": "https://localhost:8080/",
          "height": 621
        },
        "id": "322ahbdHCQ92",
        "outputId": "047ffc6e-cf25-4993-8fc8-3d538400bac2"
      },
      "source": [
        "# confusion marix for thge validation set\r\n",
        "# Note:\r\n",
        "# TR: treatment and respond group (received promotion and made purchase)\r\n",
        "# CR: control and respond group (did not receive promotion but made purchase)\r\n",
        "# TN: treatment and no respond group (received promotion but did not made purchase)\r\n",
        "# CR: control and no respond group (did not receive promotion and made no purchase)\r\n",
        "valid_pred = model.predict(X_valid, ntree_limit=model.best_ntree_limit)\r\n",
        "cm = sk.metrics.confusion_matrix(Y_valid, valid_pred)\r\n",
        "\r\n",
        "fig, ax= plt.subplots(figsize=(10,10))\r\n",
        "sb.heatmap(cm, annot=True, fmt='g', ax = ax); #annot=True to annotate cells\r\n",
        "\r\n",
        "# labels, title and ticks\r\n",
        "ax.set_xlabel('Predicted labels');\r\n",
        "ax.set_ylabel('True labels'); \r\n",
        "ax.set_title('Confusion Matrix'); \r\n",
        "ax.xaxis.set_ticklabels(['TR', 'CR', 'TN', 'CN']); \r\n",
        "ax.yaxis.set_ticklabels(['TR', 'CR', 'TN', 'CN']);"
      ],
      "execution_count": 35,
      "outputs": [
        {
          "output_type": "display_data",
          "data": {
            "image/png": "[encoded data removed]",
            "text/plain": [
              "<Figure size 720x720 with 2 Axes>"
            ]
          },
          "metadata": {
            "tags": [],
            "needs_background": "light"
          }
        }
      ]
    },
    {
      "cell_type": "code",
      "metadata": {
        "id": "EE4IwTULCme2"
      },
      "source": [
        "def promotion_strategy(df):\r\n",
        "    test = df\r\n",
        "    \r\n",
        "    pred = model.predict(test, ntree_limit=model.best_ntree_limit)\r\n",
        "    \r\n",
        "    promotion = []\r\n",
        "    \r\n",
        "    for pred in pred:\r\n",
        "        if pred == 0:\r\n",
        "            promotion.append('Yes')\r\n",
        "        else:\r\n",
        "            promotion.append('No')\r\n",
        "    \r\n",
        "    promotion = np.array(promotion)\r\n",
        "    \r\n",
        "    return promotion"
      ],
      "execution_count": 36,
      "outputs": []
    },
    {
      "cell_type": "code",
      "metadata": {
        "colab": {
          "base_uri": "https://localhost:8080/"
        },
        "id": "h7STge6TCiYh",
        "outputId": "9d756cd1-97f6-431c-b6d9-311fac75a19b"
      },
      "source": [
        "valid_results(promotion_strategy, valid)\r\n"
      ],
      "execution_count": 37,
      "outputs": [
        {
          "output_type": "stream",
          "text": [
            "120 61\n",
            "Your irr with this strategy is -1.3210.\n",
            "\n",
            "Your nir with this strategy is 12.00.\n"
          ],
          "name": "stdout"
        },
        {
          "output_type": "execute_result",
          "data": {
            "text/plain": [
              "(-1.3210382513661203, 12.0)"
            ]
          },
          "metadata": {
            "tags": []
          },
          "execution_count": 37
        }
      ]
    },
    {
      "cell_type": "code",
      "metadata": {
        "colab": {
          "base_uri": "https://localhost:8080/"
        },
        "id": "r0i0HFYwCuy1",
        "outputId": "79acd594-bf08-4a93-b7c5-2da126e0af1e"
      },
      "source": [
        "test_results(promotion_strategy, df_test)"
      ],
      "execution_count": 38,
      "outputs": [
        {
          "output_type": "stream",
          "text": [
            "80 41\n",
            "Your irr with this strategy is 0.0299.\n",
            "\n",
            "Your nir with this strategy is 88.00.\n"
          ],
          "name": "stdout"
        },
        {
          "output_type": "execute_result",
          "data": {
            "text/plain": [
              "(0.029878048780487804, 88.0)"
            ]
          },
          "metadata": {
            "tags": []
          },
          "execution_count": 38
        }
      ]
    },
    {
      "cell_type": "code",
      "metadata": {
        "id": "s0VKU7KcCyG4"
      },
      "source": [
        ""
      ],
      "execution_count": 38,
      "outputs": []
    }
  ]
}